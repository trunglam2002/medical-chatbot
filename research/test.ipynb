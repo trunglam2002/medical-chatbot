{
 "cells": [
  {
   "cell_type": "code",
   "execution_count": 10,
   "metadata": {},
   "outputs": [],
   "source": [
    "import torch\n",
    "from transformers import GPT2Tokenizer, GPT2LMHeadModel\n",
    "\n",
    "tokenizer = GPT2Tokenizer.from_pretrained('NlpHUST/gpt2-vietnamese')\n",
    "model = GPT2LMHeadModel.from_pretrained('NlpHUST/gpt2-vietnamese')"
   ]
  },
  {
   "cell_type": "code",
   "execution_count": 14,
   "metadata": {},
   "outputs": [
    {
     "name": "stdout",
     "output_type": "stream",
     "text": [
      ">> Generated text 1\n",
      "\n",
      "thuốc giảm đau có thể làm dịu cơn đau cấp tốc, nhưng nó cũng gây ra nhiều biến chứng nghiêm trọng.\n",
      "Trong trường hợp này, bác sĩ sẽ chỉ định cho bạn sử dụng thuốc chống viêm không steroid (NSAIDs). Đây là loại thuốc được chứng minh có hiệu quả trong điều trị đau thần kinh tọa. Tuy nhiên, nếu bạn đang dùng thuốc NSAIDs (như ibuprofen, diclofenac, naproxen, meloxicam), bạn nên tham khảo ý kiến bác\n",
      "\n",
      "---\n",
      ">> Generated text 2\n",
      "\n",
      "thuốc giảm đau có thể làm dịu cơn đau cấp tốc, nhưng nó cũng gây ra nhiều biến chứng nghiêm trọng.\n",
      "Trong trường hợp này, bác sĩ sẽ chỉ định cho bạn sử dụng thuốc chống viêm không steroid (NSAIDs). Đây là loại thuốc được chứng minh có hiệu quả trong điều trị đau thần kinh tọa. Tuy nhiên, nếu bạn đang dùng thuốc NSAIDs (như ibuprofen, diclofenac, naproxen, meloxicam), bạn nên tham khảo ý kiến của\n",
      "\n",
      "---\n",
      ">> Generated text 3\n",
      "\n",
      "thuốc giảm đau có thể làm dịu cơn đau cấp tốc, nhưng nó cũng gây ra nhiều biến chứng nghiêm trọng.\n",
      "Trong trường hợp này, bác sĩ sẽ chỉ định cho bạn sử dụng thuốc chống viêm không steroid (NSAIDs). Đây là loại thuốc được chứng minh có hiệu quả trong điều trị đau thần kinh tọa. Tuy nhiên, nếu bạn đang dùng thuốc NSAIDs (như ibuprofen, diclofenac, naproxen, meloxicam), bạn nên tham khảo ý kiến ​​\n",
      "\n",
      "---\n"
     ]
    }
   ],
   "source": [
    "text = \"thuốc giảm đau có thể làm dịu cơn đau cấp tốc, nhưng nó cũng gây ra nhiều biến chứng\"\n",
    "input_ids = tokenizer.encode(text, return_tensors='pt')\n",
    "max_length = 100\n",
    "\n",
    "sample_outputs = model.generate(input_ids,pad_token_id=tokenizer.eos_token_id,\n",
    "                                   do_sample=True,\n",
    "                                   max_length=max_length,\n",
    "                                   min_length=max_length,\n",
    "                                   top_k=40,\n",
    "                                   num_beams=5,\n",
    "                                   early_stopping=True,\n",
    "                                   no_repeat_ngram_size=2,\n",
    "                                   num_return_sequences=3)\n",
    "\n",
    "for i, sample_output in enumerate(sample_outputs):\n",
    "    print(\">> Generated text {}\\n\\n{}\".format(i+1, tokenizer.decode(sample_output.tolist())))\n",
    "    print('\\n---')"
   ]
  }
 ],
 "metadata": {
  "kernelspec": {
   "display_name": "medical-chatbot",
   "language": "python",
   "name": "python3"
  },
  "language_info": {
   "codemirror_mode": {
    "name": "ipython",
    "version": 3
   },
   "file_extension": ".py",
   "mimetype": "text/x-python",
   "name": "python",
   "nbconvert_exporter": "python",
   "pygments_lexer": "ipython3",
   "version": "3.9.0"
  }
 },
 "nbformat": 4,
 "nbformat_minor": 2
}
