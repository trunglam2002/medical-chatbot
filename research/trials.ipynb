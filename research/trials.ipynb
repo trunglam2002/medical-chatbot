{
 "cells": [
  {
   "cell_type": "code",
   "execution_count": 2,
   "metadata": {},
   "outputs": [
    {
     "name": "stderr",
     "output_type": "stream",
     "text": [
      "c:\\Users\\NgLaam\\Desktop\\chatbot\\medical-chatbot\\medical-chatbot\\lib\\site-packages\\pinecone\\data\\index.py:1: TqdmWarning: IProgress not found. Please update jupyter and ipywidgets. See https://ipywidgets.readthedocs.io/en/stable/user_install.html\n",
      "  from tqdm.autonotebook import tqdm\n"
     ]
    }
   ],
   "source": [
    "from langchain.embeddings import HuggingFaceEmbeddings\n",
    "from langchain.vectorstores import Pinecone as PineconeStore\n",
    "import pinecone\n",
    "from langchain.document_loaders import PyPDFLoader, DirectoryLoader\n",
    "from langchain.text_splitter import RecursiveCharacterTextSplitter\n",
    "from transformers import GPT2Tokenizer, GPT2LMHeadModel\n",
    "import os"
   ]
  },
  {
   "cell_type": "code",
   "execution_count": 3,
   "metadata": {},
   "outputs": [],
   "source": [
    "PINECONE_API_KEY = '8d7fd4ae-327c-4cd5-abbe-0c2d4769e37e'"
   ]
  },
  {
   "cell_type": "code",
   "execution_count": 4,
   "metadata": {},
   "outputs": [],
   "source": [
    "# Thiết lập biến môi trường cho Pinecone API key\n",
    "os.environ['PINECONE_API_KEY'] = PINECONE_API_KEY"
   ]
  },
  {
   "cell_type": "code",
   "execution_count": 5,
   "metadata": {},
   "outputs": [],
   "source": [
    "# #Extract PDF data\n",
    "# data_path = 'C:/Users/NgLaam/Desktop/chatbot/medical-chatbot/dataset'\n",
    "\n",
    "# def load_pdf(data_path):\n",
    "#     loader = DirectoryLoader(data_path,\n",
    "#                         glob = '*.pdf',\n",
    "#                         loader_cls=PyPDFLoader)\n",
    "    \n",
    "#     documents = loader.load()\n",
    "\n",
    "#     return documents\n",
    "\n",
    "# extract_data = load_pdf(data_path)"
   ]
  },
  {
   "cell_type": "code",
   "execution_count": 11,
   "metadata": {},
   "outputs": [],
   "source": [
    "# extract_data"
   ]
  },
  {
   "cell_type": "code",
   "execution_count": 6,
   "metadata": {},
   "outputs": [],
   "source": [
    "# #Create text chunks\n",
    "# def text_split(extract_data):\n",
    "#     text_splitter = RecursiveCharacterTextSplitter(chunk_size = 512, chunk_overlap = 20)\n",
    "#     text_chunks = text_splitter.split_documents(extract_data)\n",
    "\n",
    "#     return text_chunks\n",
    "\n",
    "# text_chunks = text_split(extract_data)\n",
    "# print('Length of my chunk is ', len(text_chunks))"
   ]
  },
  {
   "cell_type": "code",
   "execution_count": 7,
   "metadata": {},
   "outputs": [],
   "source": [
    "#download embedding model\n",
    "def download_hugging_face_embeddings():\n",
    "    embeddings = HuggingFaceEmbeddings(model_name='sentence-transformers/all-MiniLM-L6-v2')\n",
    "    return embeddings\n",
    "\n",
    "embeddings = download_hugging_face_embeddings()"
   ]
  },
  {
   "cell_type": "code",
   "execution_count": 7,
   "metadata": {},
   "outputs": [
    {
     "data": {
      "text/plain": [
       "HuggingFaceEmbeddings(client=SentenceTransformer(\n",
       "  (0): Transformer({'max_seq_length': 256, 'do_lower_case': False}) with Transformer model: BertModel \n",
       "  (1): Pooling({'word_embedding_dimension': 384, 'pooling_mode_cls_token': False, 'pooling_mode_mean_tokens': True, 'pooling_mode_max_tokens': False, 'pooling_mode_mean_sqrt_len_tokens': False})\n",
       "  (2): Normalize()\n",
       "), model_name='sentence-transformers/all-MiniLM-L6-v2', cache_folder=None, model_kwargs={}, encode_kwargs={}, multi_process=False, show_progress=False)"
      ]
     },
     "execution_count": 7,
     "metadata": {},
     "output_type": "execute_result"
    }
   ],
   "source": [
    "embeddings"
   ]
  },
  {
   "cell_type": "code",
   "execution_count": 40,
   "metadata": {},
   "outputs": [
    {
     "name": "stdout",
     "output_type": "stream",
     "text": [
      "Length 384\n"
     ]
    }
   ],
   "source": [
    "query = embeddings.embed_query('Xin chào Việt Nam')\n",
    "print('Length', len(query))"
   ]
  },
  {
   "cell_type": "code",
   "execution_count": 8,
   "metadata": {},
   "outputs": [],
   "source": [
    "pc = pinecone.Pinecone(api_key=PINECONE_API_KEY)\n",
    "\n",
    "index_name =\"vni-medical\"\n",
    "\n",
    "# #Creating Embeddings for each of the text chunks and storing \n",
    "# docsearch = PineconeStore.from_texts([t.page_content for t in text_chunks], embeddings, index_name=index_name)"
   ]
  },
  {
   "cell_type": "code",
   "execution_count": 46,
   "metadata": {},
   "outputs": [],
   "source": [
    "# prompt_template=\"\"\"\n",
    "# Use the following pieces of information to answer the user's question.\n",
    "# If you don't know the answer, just say that you don't know, don't try to make up an answer.\n",
    "\n",
    "# Context: {context}\n",
    "# Question: {question}\n",
    "\n",
    "# Only return the helpful answer below and nothing else.\n",
    "# Helpful answer:\n",
    "# \"\"\""
   ]
  },
  {
   "cell_type": "code",
   "execution_count": 47,
   "metadata": {},
   "outputs": [],
   "source": [
    "# PROMPT = PromptTemplate(template=prompt_template, input_variables=['context', 'question'])\n",
    "# chain_type_kwargs={'prompt': PROMPT}"
   ]
  },
  {
   "cell_type": "code",
   "execution_count": 52,
   "metadata": {},
   "outputs": [],
   "source": [
    "# llm=CTransformers(model='C:/Users/NgLaam/Desktop/chatbot/medical-chatbot/model/llama-2-7b-chat.ggmlv3.q4_0.bin',\n",
    "#                   model_type='llama',\n",
    "#                   config={'max_new_tokens': 512,\n",
    "#                           'temperature':0.8})"
   ]
  },
  {
   "cell_type": "code",
   "execution_count": 53,
   "metadata": {},
   "outputs": [],
   "source": [
    "# qa = RetrievalQA.from_chain_type(\n",
    "#     llm=llm,\n",
    "#     chain_type='stuff',\n",
    "#     retriever = docsearch.as_retriever(search_kwargs={'k': 2}),\n",
    "#     return_source_documents=True,\n",
    "#     chain_type_kwargs=chain_type_kwargs\n",
    "# )"
   ]
  },
  {
   "cell_type": "code",
   "execution_count": 9,
   "metadata": {},
   "outputs": [],
   "source": [
    "tokenizer = GPT2Tokenizer.from_pretrained('NlpHUST/gpt2-vietnamese')\n",
    "model = GPT2LMHeadModel.from_pretrained('NlpHUST/gpt2-vietnamese')"
   ]
  },
  {
   "cell_type": "code",
   "execution_count": 15,
   "metadata": {},
   "outputs": [
    {
     "name": "stdout",
     "output_type": "stream",
     "text": [
      "rét,  chúng  nên  được  dùng  vào  cùng  một  thời  điểm  mỗi  ngày.Thuốc  chống  sốt  rét  chỉ  được  cung  cấp  khi  có  đơn  thuốc  của  bác  sĩ.  Chúng  có  dạng  viên,  viên  nang  và  dạng  tiêm.  Trong  số  các  thuốc  chống  sốt  rét  thường  được  sử  dụng286 BẠC  THÀNH  Y  HỌC  GALE  2Machine Translated by Google\n"
     ]
    }
   ],
   "source": [
    "import re\n",
    "\n",
    "docsearch = PineconeStore.from_existing_index(index_name, embeddings)\n",
    "\n",
    "query = 'sử dụng thuốc chống sốt rét nên lưu ý điều gì'\n",
    "similar = docsearch.similarity_search(query, k=3)\n",
    "\n",
    "# Use a different variable name instead of str\n",
    "str_similar = str(similar[1])\n",
    "\n",
    "def clean_text(text):\n",
    "    # Remove 'page_content=' from the string\n",
    "    result_str = re.sub(r\"page_content='|\\\\n|'\", \"\", text)\n",
    "    return result_str\n",
    "\n",
    "print(clean_text(str_similar))\n"
   ]
  },
  {
   "cell_type": "code",
   "execution_count": 16,
   "metadata": {},
   "outputs": [],
   "source": [
    "#Load index if we already have index\n",
    "\n",
    "def get_answer(docsearch, query, model, max_length = 512):\n",
    "    concentrated_docs = ''\n",
    "    docs = docsearch.similarity_search(query, k=2)\n",
    "    for doc in docs:\n",
    "        clean_doc  = clean_text(str(doc))\n",
    "        concentrated_docs += clean_doc\n",
    "    \n",
    "    print(concentrated_docs)\n",
    "    input_ids = tokenizer.encode(concentrated_docs, return_tensors='pt')\n",
    "    sample_outputs = model.generate(input_ids,pad_token_id=tokenizer.eos_token_id,\n",
    "                                   do_sample=True,\n",
    "                                   max_length=max_length,\n",
    "                                   min_length=max_length,\n",
    "                                   top_k=40,\n",
    "                                   num_beams=5,\n",
    "                                   early_stopping=True,\n",
    "                                   no_repeat_ngram_size=2,\n",
    "                                   num_return_sequences=1)\n",
    "\n",
    "    generated_sequences = [tokenizer.decode(output, skip_special_tokens=True) for output in sample_outputs]\n",
    "    \n",
    "    return list(enumerate(generated_sequences))"
   ]
  },
  {
   "cell_type": "code",
   "execution_count": 17,
   "metadata": {},
   "outputs": [
    {
     "name": "stdout",
     "output_type": "stream",
     "text": [
      "đến  nam  giới  và  được  đặc  trưng  bởi  tuyến  tiền  liệt  phì  đại .Một  số  người  có  thể  cảm  thấy  buồn  ngủ  hoặc  kém  tỉnh  táo  khi  sử  dụng  các  loại  thuốc  này.  Do  đó,  họ  nên  tránh  lái  xe  hoặc  thực  hiện  các  hoạt  động  đòi  hỏi  sự  chú  ý  hoàn  toàn.Thuốc  chẹn  alpha  có  thể  làm  giảm  huyết  áp  ở  mức  độ  lớn  hơn  mức  mong  muốn.  Điều  này  có  thể  gây  chóng  mặt,  choáng  váng,  tim  đập  nhanh  vàrét,  chúng  nên  được  dùng  vào  cùng  một  thời  điểm  mỗi  ngày.Thuốc  chống  sốt  rét  chỉ  được  cung  cấp  khi  có  đơn  thuốc  của  bác  sĩ.  Chúng  có  dạng  viên,  viên  nang  và  dạng  tiêm.  Trong  số  các  thuốc  chống  sốt  rét  thường  được  sử  dụng286 BẠC  THÀNH  Y  HỌC  GALE  2Machine Translated by Google\n",
      "[(0, 'đến  nam  giới  và  được  đặc  trưng  bởi  tuyến  tiền  liệt  phì  đại.Một  số  người  có  thể  cảm  thấy  buồn  ngủ  hoặc  kém  tỉnh  táo  khi  sử  dụng  các  loại  thuốc  này.  Do  đó,  họ  nên  tránh  lái  xe  hoặc  thực  hiện  các  hoạt  động  đòi  hỏi  sự  chú  ý  hoàn  toàn.Thuốc  chẹn  alpha  có  thể  làm  giảm  huyết  áp  ở  mức  độ  lớn  hơn  mức  mong  muốn.  Điều  này  có  thể  gây  chóng  mặt,  choáng  váng,  tim  đập  nhanh  vàrét,  chúng  nên  được  dùng  vào  cùng  một  thời  điểm  mỗi  ngày.Thuốc  chống  sốt  rét  chỉ  được  cung  cấp  khi  có  đơn  thuốc  của  bác  sĩ.  Chúng  có  dạng  viên,  viên  nang  và  dạng  tiêm.  Trong  số  các  thuốc  chống  sốt  rét  thường  được  sử  dụng286 BẠC  THÀNH  Y  HỌC  GALE  2Machine Translated by Google.com.vn.\\n3.2.1. Các  nhà  khoa học  đã  nghiên cứu  quy ết ến  những   bệnh  trong  lĩnh vực  liên quan  với  sức khỏe .  Nghiên cứu này được thực hiện nhằm đánh giá  hiệu quả điều trị  trên  trí não ,  trạng  tâm  dục  (  suy  ),  giấc  mơ  mộng  ảo  n ớc  bị  ức  từ  tri ện  mê ệt  say  ngất  đến  khó  đạt  tiêu  cao  ước  về  rối loạn  trầm ật  do  lo ia  sau  cuộc sống  xã ƯỚC  MƠ ỘNG  GIẤC  Ư  Đ ỒNG  MẤT  NG ƯỚ  T ƯỜNG  N  ẬU  TR Ề  TRÍ TUỆ  Ợ  M Ẽ  C ầ  Ố  Ạ  G  Ủ  B ạn  m ỗ  D  Í Ớ Ệ Ụ')]\n"
     ]
    }
   ],
   "source": [
    "query = 'sử dụng thuốc chống sốt rét nên lưu ý điều gì'\n",
    "result = get_answer(docsearch, query, model)\n",
    "print(result)"
   ]
  },
  {
   "cell_type": "code",
   "execution_count": 30,
   "metadata": {},
   "outputs": [
    {
     "name": "stdout",
     "output_type": "stream",
     "text": [
      "có  thể  đề  nghị  xét  nghiệm  máu  để  đo  nồng  độ  hormone,nội  tiết  tố  nam,  có  thể  giúp  giảm  lông  trên  cơ  thể.  Nếu  mộtcăng  thẳng  là  hai  nguyên  nhân  chính.  Mất  kinh  thường  làkhối  u.  Việc  chấm  dứt  kinh  nguyệt  cũng  xảy  ra  vĩnh  viễn  sau  khi  mãn  kinh  hoặc  cắt  bỏ  tử  cung.nhưng  việc  khám  nên  bắt  đầu  bằng  que  thử  thai;  khả  năng  mang  thaicó  kinh  nguyệt  bình  thường  trước  đây.  Nhiều  phụ  nữ  thỉnh  thoảng  bị  mất  kinh  mỗi  tháng.  Vô  kinh  xảy  ra  nếu  người  phụ  nữ  mất  kinh  từ  ba  kỳ  kinh  trở  lên  liên  tiếp.Việc  không  có  kinh  nguyệt  được  gọi  là  amenor-rhea.  Vô  kinh  nguyên  phát  là  tình  trạng  không  bắt  đầu  có  kinhRebecca  J.  FreyVô  kinh  có  thể  có  nhiều  nguyên  nhân.  Vô  kinh  nguyên  phát  có  thể  là  kết  quả  của  sự  mất  cân  bằng  nội  tiết  tố,  rối  loạn  tâm  thần,  rối\n",
      "Response : [(0, 'có  thể  đề  nghị  xét  nghiệm  máu  để  đo  nồng  độ  hormone,nội  tiết  tố  nam,  có  thể  giúp  giảm  lông  trên  cơ  thể.  Nếu  mộtcăng  thẳng  là  hai  nguyên  nhân  chính.  Mất  kinh  thường  làkhối  u.  Việc  chấm  dứt  kinh  nguyệt  cũng  xảy  ra  vĩnh  viễn  sau  khi  mãn  kinh  hoặc  cắt  bỏ  tử  cung.nhưng  việc  khám  nên  bắt  đầu  bằng  que  thử  thai;  khả  năng  mang  thaicó  kinh  nguyệt  bình  thường  trước  đây.  Nhiều  phụ  nữ  thỉnh  thoảng  bị  mất  kinh  mỗi  tháng.  Vô  kinh  xảy  ra  nếu  người  phụ  nữ  mất  kinh  từ  ba  kỳ  kinh  trở  lên  liên  tiếp.Việc  không  có  kinh  nguyệt  được  gọi  là  amenor-rhea.  Vô  kinh  nguyên  phát  là  tình  trạng  không  bắt  đầu  có  kinhRebecca  J.  FreyVô  kinh  có  thể  có  nhiều  nguyên  nhân.  Vô  kinh  nguyên  phát  có  thể  là  kết  quả  của  sự  mất  cân  bằng  nội  tiết  tố,  rối  loạn  tâm  thần,  rối loạn thần kinh thực vật.\\nTrong  trường hợp  vô kinh nguyên nhân do  buồng trứng  thì  vẫn  hoạt ộng   nhưng  ít  hơn  so với  những  khác. Do đó  chị em  hiếm  muộn  sẽ  gặp  khó  trong  cuộc  dục  và  nguy ến  sinh  con .  Rối loạn kinh nguyệt ở  cô gái  rất dễ  gây  ảnh hưởng  tới  quan hệ vợ  chồng  làm  suy  trầm ật  dẫn  đến  bế  đình  hạnh  phúc  cho  cả  gia  nhi ều  nu àn  n ớc \\nDo  hiện  chưa  nghiên cứu  kỹ  sâu ạc  vấn  về  quy ết  khoa học  mà  đã  ứng dụng ')]\n",
      "có  thể  đề  nghị  xét  nghiệm  máu  để  đo  nồng  độ  hormone,nội  tiết  tố  nam,  có  thể  giúp  giảm  lông  trên  cơ  thể.  Nếu  mộtcăng  thẳng  là  hai  nguyên  nhân  chính.  Mất  kinh  thường  làkhối  u.  Việc  chấm  dứt  kinh  nguyệt  cũng  xảy  ra  vĩnh  viễn  sau  khi  mãn  kinh  hoặc  cắt  bỏ  tử  cung.nhưng  việc  khám  nên  bắt  đầu  bằng  que  thử  thai;  khả  năng  mang  thaicó  kinh  nguyệt  bình  thường  trước  đây.  Nhiều  phụ  nữ  thỉnh  thoảng  bị  mất  kinh  mỗi  tháng.  Vô  kinh  xảy  ra  nếu  người  phụ  nữ  mất  kinh  từ  ba  kỳ  kinh  trở  lên  liên  tiếp.Việc  không  có  kinh  nguyệt  được  gọi  là  amenor-rhea.  Vô  kinh  nguyên  phát  là  tình  trạng  không  bắt  đầu  có  kinhRebecca  J.  FreyVô  kinh  có  thể  có  nhiều  nguyên  nhân.  Vô  kinh  nguyên  phát  có  thể  là  kết  quả  của  sự  mất  cân  bằng  nội  tiết  tố,  rối  loạn  tâm  thần,  rối\n",
      "Response : [(0, 'có  thể  đề  nghị  xét  nghiệm  máu  để  đo  nồng  độ  hormone,nội  tiết  tố  nam,  có  thể  giúp  giảm  lông  trên  cơ  thể.  Nếu  mộtcăng  thẳng  là  hai  nguyên  nhân  chính.  Mất  kinh  thường  làkhối  u.  Việc  chấm  dứt  kinh  nguyệt  cũng  xảy  ra  vĩnh  viễn  sau  khi  mãn  kinh  hoặc  cắt  bỏ  tử  cung.nhưng  việc  khám  nên  bắt  đầu  bằng  que  thử  thai;  khả  năng  mang  thaicó  kinh  nguyệt  bình  thường  trước  đây.  Nhiều  phụ  nữ  thỉnh  thoảng  bị  mất  kinh  mỗi  tháng.  Vô  kinh  xảy  ra  nếu  người  phụ  nữ  mất  kinh  từ  ba  kỳ  kinh  trở  lên  liên  tiếp.Việc  không  có  kinh  nguyệt  được  gọi  là  amenor-rhea.  Vô  kinh  nguyên  phát  là  tình  trạng  không  bắt  đầu  có  kinhRebecca  J.  FreyVô  kinh  có  thể  có  nhiều  nguyên  nhân.  Vô  kinh  nguyên  phát  có  thể  là  kết  quả  của  sự  mất  cân  bằng  nội  tiết  tố,  rối  loạn  tâm  thần,  rối loạn kinh nguyệt.\\n  Trong  trường hợp  vô kinh nguyên nhân do  buồng trứng  thì  sẽ  xuất hiện  những  triệu chứng sau:  Một số  chị  sử ụng thuốc tránh thai  đều  gặp  ít  n ếu  dùng  trong  ngày  nhất   1 lần  nhưng  vẫn  chưa  hành  hoạt ộng  ảnh ến  trầm ật  gây  khó  chuyển  đổi  sang  khác .  Khi  chu ết  kế  đình  dục  cho  các  anh  em ,  đã  tìm  cách  trị  hiệu  trình  trì  dưỡng  tốt  và  làm  điều ớc  ước  về  vấn  nu ia  sinh sản \\n1. Nguyên nhân của hiện tượng này là do sự')]\n"
     ]
    }
   ],
   "source": [
    "while True:\n",
    "    user_input=input(f'Input Prompt:')\n",
    "    result=get_answer(docsearch, query, model)\n",
    "    print('Response :', result)"
   ]
  }
 ],
 "metadata": {
  "kernelspec": {
   "display_name": "medical-chatbot",
   "language": "python",
   "name": "python3"
  },
  "language_info": {
   "codemirror_mode": {
    "name": "ipython",
    "version": 3
   },
   "file_extension": ".py",
   "mimetype": "text/x-python",
   "name": "python",
   "nbconvert_exporter": "python",
   "pygments_lexer": "ipython3",
   "version": "3.9.0"
  }
 },
 "nbformat": 4,
 "nbformat_minor": 2
}
